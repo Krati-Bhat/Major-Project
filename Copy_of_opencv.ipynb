{
  "nbformat": 4,
  "nbformat_minor": 0,
  "metadata": {
    "colab": {
      "name": "Copy of opencv.ipynb",
      "provenance": [],
      "authorship_tag": "ABX9TyPNWI6v1c47ZOdwZPCfJjrD",
      "include_colab_link": true
    },
    "kernelspec": {
      "name": "python3",
      "display_name": "Python 3"
    },
    "language_info": {
      "name": "python"
    }
  },
  "cells": [
    {
      "cell_type": "markdown",
      "metadata": {
        "id": "view-in-github",
        "colab_type": "text"
      },
      "source": [
        "<a href=\"https://colab.research.google.com/github/Krati-Bhat/Major-Project/blob/main/Copy_of_opencv.ipynb\" target=\"_parent\"><img src=\"https://colab.research.google.com/assets/colab-badge.svg\" alt=\"Open In Colab\"/></a>"
      ]
    },
    {
      "cell_type": "code",
      "execution_count": null,
      "metadata": {
        "id": "NZzAgGg4SNW1"
      },
      "outputs": [],
      "source": [
        "import cv2 \n",
        "import numpy as np\n",
        "img=cv2.imread(r'C:\\Users\\KRATI BHAT\\OneDrive\\Desktop\\cat.webp')\n",
        "cv2.imshow('img',img)\n",
        "average=cv2.blur(img,(7,7))\n",
        "cv2.imshow('Average Blur',average)\n",
        "gauss=cv2.GaussianBlur(img,(7,7),0)\n",
        "cv2.imshow('GaussianBlur',gauss)\n",
        "median=cv2.medianBlur(img,3)\n",
        "cv2.imshow('Median Blur',median)\n",
        "b=cv2.bilateralFilter(img,10,35,15)\n",
        "cv2.imshow('bilateral',b)\n",
        "image = cv2.imread(r'C:\\Users\\KRATI BHAT\\OneDrive\\Desktop\\geeks.jpg')\n",
        "window_name = 'Image'\n",
        "pts = np.array([[25, 70], [25, 160],\n",
        "\t\t\t\t[110, 200], [200, 160],\n",
        "\t\t\t\t[200, 70], [110, 20]],\n",
        "\t\t\tnp.int32)\n",
        "pts = pts.reshape((-1, 1, 2))\n",
        "isClosed = True\n",
        "color = (255, 0, 0)\n",
        "thickness = 2\n",
        "image = cv2.polylines(image, [pts],isClosed, color, thickness)\n",
        "while(1):\n",
        "    cv2.imshow('numpysample', image)\n",
        "    if cv2.waitKey(20) & 0xFF == 27:\n",
        "        break\n",
        "\t\t\n",
        "cv2.destroyAllWindows()\n"
      ]
    }
  ]
}